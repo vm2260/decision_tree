{
 "cells": [
  {
   "cell_type": "code",
   "execution_count": 26,
   "metadata": {
    "metadata": {}
   },
   "outputs": [],
   "source": [
    "from sklearn.model_selection import KFold\n",
    "from sklearn.model_selection import train_test_split\n",
    "from sklearn.metrics import accuracy_score\n",
    "import numpy as np\n",
    "import pandas as pd\n",
    "import math\n",
    "from matplotlib import pyplot as plt"
   ]
  },
  {
   "cell_type": "code",
   "execution_count": 27,
   "metadata": {
    "metadata": {}
   },
   "outputs": [],
   "source": [
    "# node class\n",
    "class Node:\n",
    "    def __init__(self, leaf=True, feature_name=None, decision_boundary=None, left=None, right=None, value=None ):\n",
    "        self.feature_name = feature_name\n",
    "        self.decision_boundary = decision_boundary\n",
    "        self.left = left\n",
    "        self.right = right\n",
    "        self.value = value\n",
    "        self.is_leaf = leaf # can be ignored"
   ]
  },
  {
   "cell_type": "code",
   "execution_count": 28,
   "metadata": {
    "metadata": {}
   },
   "outputs": [],
   "source": [
    "# Decision Tree class\n",
    "class DecisionTree:\n",
    "    def __init__(self):\n",
    "        self.root = None\n",
    "\n",
    "    def entropy(self, y):\n",
    "        unique_class_occurrences = np.bincount(y)\n",
    "        entropy = 0\n",
    "        for c in unique_class_occurrences:\n",
    "            if c != 0:\n",
    "                p_i = c / len(y)\n",
    "                entropy -= p_i * math.log2(p_i)\n",
    "        return entropy\n",
    "\n",
    "    def information_gain(self, X_column, threshold, y):\n",
    "        left_indices = np.where(X_column <= threshold)[0]\n",
    "        right_indices = np.where(X_column > threshold)[0]\n",
    "        \n",
    "        if len(left_indices) == 0 or len(right_indices) == 0:\n",
    "            return 0\n",
    "        \n",
    "        y_left = y[left_indices]\n",
    "        y_right = y[right_indices]\n",
    "\n",
    "        p_left = len(y_left) / len(y)\n",
    "        p_right = len(y_right) / len(y)\n",
    "\n",
    "        gain = self.entropy(y) - (p_left * self.entropy(y_left) + p_right * self.entropy(y_right))\n",
    "\n",
    "        return gain\n",
    "\n",
    "    def most_occuring_label(self, y):\n",
    "        return np.bincount(y).argmax()\n",
    "\n",
    "    def choose_best_split(self, X, y):\n",
    "        optimal_gain = -1\n",
    "        best_feature = None\n",
    "        best_split_for_feature = None\n",
    "\n",
    "        for i in range(X.shape[1]):\n",
    "            col = X[:, i]\n",
    "            unique_vals = np.unique(col)\n",
    "            for j in range(len(unique_vals) - 1):\n",
    "                mean = (unique_vals[j] + unique_vals[j + 1]) / 2\n",
    "                gain = self.information_gain(col, mean, y)\n",
    "\n",
    "                if gain > optimal_gain:\n",
    "                    optimal_gain = gain\n",
    "                    best_feature = i\n",
    "                    best_split_for_feature = mean\n",
    "\n",
    "        return best_feature, best_split_for_feature\n",
    "\n",
    "    def create_tree(self, X, y, n_min):\n",
    "        if len(np.unique(y)) == 1 or len(y) < n_min:\n",
    "            return Node(leaf=True, value=self.most_occuring_label(y))\n",
    "\n",
    "        best_feature, best_split_for_feature = self.choose_best_split(X, y)\n",
    "\n",
    "        if best_feature is None:\n",
    "            return Node(leaf=True, value=self.most_occuring_label(y))\n",
    "\n",
    "        left_indices = np.where(X[:, best_feature] <= best_split_for_feature)[0]\n",
    "        right_indices = np.where(X[:, best_feature] > best_split_for_feature)[0]\n",
    "\n",
    "        left_child = self.create_tree(X[left_indices], y[left_indices], n_min)\n",
    "        right_child = self.create_tree(X[right_indices], y[right_indices], n_min)\n",
    "\n",
    "        return Node(leaf=False, feature_name=best_feature, decision_boundary=best_split_for_feature, left=left_child, right=right_child)\n",
    "\n",
    "    def fit(self, X, y, n_min):\n",
    "        self.root = self.create_tree(X, y, n_min)\n",
    "\n",
    "    def predict_one_row(self, node, row):\n",
    "        if node.is_leaf:\n",
    "            return node.value\n",
    "\n",
    "        if row[node.feature_name] <= node.decision_boundary:\n",
    "            return self.predict_one_row(node.left, row)\n",
    "        else:\n",
    "            return self.predict_one_row(node.right, row)\n",
    "\n",
    "    def predict(self, X):\n",
    "        y_pred = [self.predict_one_row(self.root, row) for row in X]\n",
    "        return np.array(y_pred)"
   ]
  },
  {
   "cell_type": "code",
   "execution_count": 29,
   "metadata": {
    "metadata": {}
   },
   "outputs": [],
   "source": [
    "# K-fold\n",
    "def accuracy_through_cross_validation(X, y, n_min_values):\n",
    "    results = []\n",
    "\n",
    "    for n_min in n_min_values:\n",
    "        accuracies = []\n",
    "        kf = KFold(n_splits=10, shuffle=True, random_state=42)\n",
    "\n",
    "        for train_index, test_index in kf.split(X):\n",
    "            X_train, X_test = X[train_index], X[test_index]\n",
    "            y_train, y_test = y[train_index], y[test_index]\n",
    "\n",
    "            tree = DecisionTree()\n",
    "            tree.fit(X_train, y_train, n_min)\n",
    "\n",
    "            y_pred = tree.predict(X_test)\n",
    "            accuracy = accuracy_score(y_test, y_pred)\n",
    "            accuracies.append(accuracy)\n",
    "\n",
    "        avg_accuracy = np.mean(accuracies)\n",
    "        std_dev_accuracy = np.std(accuracies)\n",
    "\n",
    "        results.append({\n",
    "            'n_min': n_min,\n",
    "            'average_accuracy': avg_accuracy,\n",
    "            'std_dev': std_dev_accuracy\n",
    "        })\n",
    "\n",
    "    return pd.DataFrame(results)"
   ]
  },
  {
   "cell_type": "code",
   "execution_count": 30,
   "metadata": {
    "metadata": {}
   },
   "outputs": [],
   "source": [
    "from sklearn.datasets import load_iris\n",
    "iris_data = load_iris()\n",
    "X_iris = iris_data['data']\n",
    "y_iris = iris_data['target']\n",
    "\n",
    "spambase_data = pd.read_csv(\"spambase.csv\")\n",
    "X_spambase = spambase_data.iloc[:, :-1].values\n",
    "y_spambase = spambase_data.iloc[:, -1].values\n",
    "\n",
    "# define n_min values for both datasets\n",
    "n_min_values_iris = [5, 10, 15, 20]\n",
    "n_min_values_spambase = [5, 10, 15, 20, 25]"
   ]
  },
  {
   "cell_type": "code",
   "execution_count": 31,
   "metadata": {
    "metadata": {}
   },
   "outputs": [],
   "source": [
    "iris_results = accuracy_through_cross_validation(X_iris, y_iris, n_min_values_iris)\n",
    "spambase_results = accuracy_through_cross_validation(X_spambase, y_spambase, n_min_values_spambase)"
   ]
  },
  {
   "cell_type": "code",
   "execution_count": 32,
   "metadata": {
    "metadata": {}
   },
   "outputs": [
    {
     "name": "stdout",
     "output_type": "stream",
     "text": [
      "Iris Dataset Results:\n",
      "   n_min  average_accuracy   std_dev\n",
      "0      5          0.933333  0.051640\n",
      "1     10          0.946667  0.049889\n",
      "2     15          0.946667  0.049889\n",
      "3     20          0.946667  0.049889\n",
      "\n",
      "Spambase Dataset Results:\n",
      "   n_min  average_accuracy   std_dev\n",
      "0      5          0.921304  0.013742\n",
      "1     10          0.919565  0.013259\n",
      "2     15          0.921957  0.013764\n",
      "3     20          0.922609  0.015682\n",
      "4     25          0.921522  0.015810\n"
     ]
    },
    {
     "data": {
      "image/png": "[encoded data removed]",
      "text/plain": [
       "<Figure size 1000x500 with 2 Axes>"
      ]
     },
     "metadata": {},
     "output_type": "display_data"
    }
   ],
   "source": [
    "print(\"Iris Dataset Results:\")\n",
    "print(iris_results)\n",
    "\n",
    "print(\"\\nSpambase Dataset Results:\")\n",
    "print(spambase_results)\n",
    "\n",
    "plt.figure(figsize=(10, 5))\n",
    "plt.subplot(1, 2, 1)\n",
    "plt.errorbar(iris_results['n_min'], iris_results['average_accuracy'], yerr=iris_results['std_dev'], fmt='-o')\n",
    "plt.title(\"Iris Dataset Accuracy vs n_min\")\n",
    "plt.xlabel('n_min')\n",
    "plt.ylabel('Accuracy')\n",
    "\n",
    "plt.subplot(1, 2, 2)\n",
    "plt.errorbar(spambase_results['n_min'], spambase_results['average_accuracy'], yerr=spambase_results['std_dev'], fmt='-o')\n",
    "plt.title(\"Spambase Dataset Accuracy vs n_min\")\n",
    "plt.xlabel('n_min')\n",
    "plt.ylabel('Accuracy')\n",
    "\n",
    "plt.tight_layout()\n",
    "plt.show()"
   ]
  },
  {
   "cell_type": "markdown",
   "metadata": {},
   "source": [
    "# Decision Tree Implementation for Classification with Early Stopping\n",
    "\n",
    "## Introduction\n",
    "\n",
    "Decision tree learning is one of the most widely used predictive modeling techniques in machine learning. It can be used for both classification and regression tasks. Decision trees are hierarchical models where decisions or classifications are made by asking a series of questions, each question corresponding to a split in the data. In the case of classification trees, the aim is to predict discrete class labels, while in regression trees, the target values are continuous.\n",
    "\n",
    "In this project, we focus on **classification trees** and implement a decision tree from scratch using **binary splits** for numerical features. We will use two datasets, **Iris** and **Spambase**, to demonstrate the effectiveness of the decision tree classifier and will evaluate the results using **10-fold cross-validation**. Additionally, an **early stopping** criterion will be applied to prevent overfitting by limiting the minimum number of instances at a leaf node.\n",
    "\n",
    "### Key Concepts\n",
    "\n",
    "1. **Entropy**: This measures the uncertainty or impurity in a dataset. Lower entropy indicates that the data is more homogeneous (i.e., belongs to the same class). In decision tree learning, entropy is used to find the most informative feature to split the data at each step.\n",
    "\n",
    "2. **Information Gain**: This measures the reduction in entropy after splitting a dataset based on a specific feature. The feature that provides the highest information gain is selected for the split at each node of the tree.\n",
    "\n",
    "3. **Early Stopping**: We impose a limit on the minimum number of instances at a leaf node (`n_min`). This prevents the tree from growing too deep and overfitting the training data. By limiting `n_min`, we ensure that nodes with very few instances are not split further.\n",
    "\n",
    "## Dataset Description\n",
    "\n",
    "### 1. **Iris Dataset**:\n",
    "The Iris dataset is a well-known dataset used for multiclass classification. It contains 150 samples, each describing a type of Iris flower. The goal is to predict the species of Iris flower (setosa, versicolor, or virginica) based on four features:\n",
    "- Sepal length\n",
    "- Sepal width\n",
    "- Petal length\n",
    "- Petal width\n",
    "\n",
    "### 2. **Spambase Dataset**:\n",
    "The Spambase dataset is used for binary classification to determine whether an email is spam or not. It contains approximately 4600 email samples, each represented by multiple features describing the content of the email (e.g., frequency of certain words or characters). The objective is to classify emails as either spam (1) or not spam (0).\n",
    "\n",
    "## Project Workflow\n",
    "\n",
    "### 1. **Node Class**:\n",
    "The `Node` class represents a single node in the decision tree. It contains information about:\n",
    "- The feature used to split the data.\n",
    "- The decision boundary for the split.\n",
    "- Pointers to the left and right child nodes.\n",
    "- The predicted value for leaf nodes (class label).\n",
    "\n",
    "### 2. **DecisionTree Class**:\n",
    "The `DecisionTree` class contains methods for building and training the decision tree. Key methods include:\n",
    "- `entropy`: Calculates the entropy of a given dataset based on the class labels.\n",
    "- `information_gain`: Computes the information gain for a given feature and split threshold.\n",
    "- `choose_best_split`: Iterates through all features and potential split points to find the best split using information gain.\n",
    "- `create_tree`: Recursively builds the decision tree by selecting the best split at each node.\n",
    "- `fit`: Fits the decision tree to the training data by calling `create_tree`.\n",
    "- `predict`: Predicts the class label for new data points by traversing the tree.\n",
    "\n",
    "### 3. **Cross-Validation**:\n",
    "We implement **10-fold cross-validation** to evaluate the performance of the decision tree for different values of `n_min`. In 10-fold cross-validation, the dataset is divided into 10 equal parts (or folds). For each fold, the model is trained on 9 folds and tested on the remaining fold. This process is repeated 10 times, and the average accuracy and standard deviation across the folds are reported.\n",
    "\n",
    "### 4. **Hyperparameter Tuning**:\n",
    "The hyperparameter `n_min` is critical to prevent overfitting. For both the Iris and Spambase datasets, we experiment with different values of `n_min` to find the best setting. The values tested are:\n",
    "- For Iris: `n_min = {5, 10, 15, 20}`\n",
    "- For Spambase: `n_min = {5, 10, 15, 20, 25}`\n",
    "\n",
    "### 5. **Evaluation Metrics**:\n",
    "We use **accuracy** as the primary evaluation metric, which is the proportion of correct predictions out of the total number of instances. We report the **average accuracy** and **standard deviation** across the 10 folds for each value of `n_min`.\n",
    "\n",
    "### 6. **Visualization**:\n",
    "The accuracy results for each value of `n_min` are visualized using line plots with error bars to represent the standard deviation. This helps in understanding the effect of the `n_min` parameter on model performance.\n"
   ]
  }
 ],
 "metadata": {
  "kernelspec": {
   "display_name": "jojo",
   "language": "python",
   "name": "python3"
  },
  "language_info": {
   "codemirror_mode": {
    "name": "ipython",
    "version": 3
   },
   "file_extension": ".py",
   "mimetype": "text/x-python",
   "name": "python",
   "nbconvert_exporter": "python",
   "pygments_lexer": "ipython3",
   "version": "3.9.19"
  }
 },
 "nbformat": 4,
 "nbformat_minor": 2
}
